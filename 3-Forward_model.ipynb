{
 "cells": [
  {
   "cell_type": "markdown",
   "metadata": {},
   "source": [
    "# Create a forward operator and display sensitivity maps\n",
    "\n",
    "`\n",
    "Authors: Eric Larson <larson.eric.d@gmail.com>\n",
    "         Denis Engemann <denis.engemann@gmail.com>\n",
    "         Alex Gramfort <alexandre.gramfort@inria.fr>\n",
    "`\n",
    "\n",
    "License: BSD (3-clause)"
   ]
  },
  {
   "cell_type": "markdown",
   "metadata": {},
   "source": [
    "First setup some paths. We will use the MNE sample data."
   ]
  },
  {
   "cell_type": "code",
   "execution_count": 2,
   "metadata": {},
   "outputs": [],
   "source": [
    "%matplotlib qt\n",
    "import matplotlib.pyplot as plt\n",
    "\n",
    "import os\n",
    "import mne\n",
    "\n",
    "# Change the following path to where the folder ds000117-practical is on your disk\n",
    "data_path = os.path.expanduser(\"~/work/data/ds000117-practical/\")\n",
    "\n",
    "raw_fname = os.path.join(data_path,\n",
    "    'derivatives/meg_derivatives/sub-01/ses-meg/meg/sub-01_ses-meg_task-facerecognition_run-01_proc-sss_meg.fif')"
   ]
  },
  {
   "cell_type": "code",
   "execution_count": 3,
   "metadata": {},
   "outputs": [],
   "source": [
    "from IPython.display import Image\n",
    "from mayavi import mlab"
   ]
  },
  {
   "cell_type": "code",
   "execution_count": 4,
   "metadata": {},
   "outputs": [],
   "source": [
    "# to check that things work:\n",
    "#mlab.test_contour3d()\n",
    "#mlab.show()"
   ]
  },
  {
   "cell_type": "markdown",
   "metadata": {},
   "source": [
    "# Computing the forward operator\n",
    "\n",
    "To compute a forward operator we need:\n",
    "\n",
    "   - a ``-trans.fif`` file that contains the coregistration info\n",
    "   - a source space\n",
    "   - the BEM surfaces"
   ]
  },
  {
   "cell_type": "markdown",
   "metadata": {},
   "source": [
    "## Compute and visualize BEM surfaces\n",
    "\n",
    "Computing the BEM surfaces requires FreeSurfer and makes use of either of the two following command line tools:\n",
    "\n",
    "[mne watershed_bem](http://martinos.org/mne/dev/generated/commands.html#mne-watershed-bem)\n",
    "\n",
    "[mne flash_bem](http://martinos.org/mne/dev/generated/commands.html#mne-flash-bem)\n",
    "\n",
    "or directly by calling the functions\n",
    "\n",
    "https://mne.tools/stable/generated/mne.bem.make_watershed_bem.html\n",
    "https://mne.tools/stable/generated/mne.bem.make_flash_bem.html\n",
    "\n",
    "Here, we'll assume it's already computed. It takes a few minutes per subject.\n",
    "\n",
    "So, let's first look at the BEM surfaces.\n",
    "\n",
    "For EEG we use 3 layers (inner skull, outer skull, and skin), while for MEG 1 layer (inner skull) is enough.\n",
    "\n",
    "To compute the BEM we'll need to use freesurfer.\n",
    "You can get it at https://surfer.nmr.mgh.harvard.edu/fswiki/DownloadAndInstall#Download\n",
    "if you are on mac or linux but you can also use a virtual machine on Windows. See\n",
    "https://surfer.nmr.mgh.harvard.edu/fswiki/Installation/FreeSurferVirtualImage\n",
    "\n",
    "To get it in this dataset I did in terminal after setting the SUBJECTS_DIR properly:\n",
    "\n",
    "`mne watershed_bem -s anat --overwrite`"
   ]
  },
  {
   "cell_type": "code",
   "execution_count": 5,
   "metadata": {},
   "outputs": [],
   "source": [
    "t1_fname = os.path.join(data_path, 'derivatives/freesurfer/sub-01/ses-mri/anat/mri/T1.mgz')"
   ]
  },
  {
   "cell_type": "code",
   "execution_count": 6,
   "metadata": {},
   "outputs": [
    {
     "name": "stderr",
     "output_type": "stream",
     "text": [
      "/Users/claire/miniconda3/lib/python3.7/site-packages/sklearn/externals/joblib/__init__.py:15: DeprecationWarning: sklearn.externals.joblib is deprecated in 0.21 and will be removed in 0.23. Please import this functionality directly from joblib, which can be installed with: pip install joblib. If this warning is raised when loading pickled models, you may need to re-serialize those models with scikit-learn 0.21+.\n",
      "  warnings.warn(msg, category=DeprecationWarning)\n"
     ]
    }
   ],
   "source": [
    "from nilearn import plotting\n",
    "plotting.plot_anat(t1_fname);\n",
    "plt.show()"
   ]
  },
  {
   "cell_type": "code",
   "execution_count": 7,
   "metadata": {},
   "outputs": [],
   "source": [
    "subjects_dir = os.path.join(data_path, 'derivatives/freesurfer/sub-01/ses-mri/')"
   ]
  },
  {
   "cell_type": "code",
   "execution_count": 8,
   "metadata": {},
   "outputs": [
    {
     "name": "stdout",
     "output_type": "stream",
     "text": [
      "Using surface: /Users/claire/work/data/ds000117-practical/derivatives/freesurfer/sub-01/ses-mri/anat/bem/inner_skull.surf\n",
      "Using surface: /Users/claire/work/data/ds000117-practical/derivatives/freesurfer/sub-01/ses-mri/anat/bem/outer_skull.surf\n",
      "Using surface: /Users/claire/work/data/ds000117-practical/derivatives/freesurfer/sub-01/ses-mri/anat/bem/outer_skin.surf\n"
     ]
    }
   ],
   "source": [
    "mne.viz.plot_bem(subject='anat', subjects_dir=subjects_dir,\n",
    "                 orientation='coronal');"
   ]
  },
  {
   "cell_type": "code",
   "execution_count": 9,
   "metadata": {},
   "outputs": [],
   "source": [
    "#mne.gui.coregistration(subject='anat', subjects_dir=subjects_dir, inst=raw_fname);"
   ]
  },
  {
   "cell_type": "markdown",
   "metadata": {},
   "source": [
    "### Visualizing the coregistration\n",
    "\n",
    "The coregistration is the operation that allows to position the head and the sensors in a common coordinate system. In the MNE software, the transformation to align the head and the sensors in stored in a so called *trans* file. It is a FIF file that ends with `-trans.fif`. It can be obtained with ``mne_analyze`` (Unix tools), ``mne.gui.coregistration`` (in Python) or mrilab if you're using a Neuromag system.\n",
    "\n",
    "For the Python version, see https://mne.tools/dev/generated/mne.gui.coregistration.html\n",
    "\n",
    "Here, we assume the coregistration is done, so we just visually check the alignment with the following code."
   ]
  },
  {
   "cell_type": "code",
   "execution_count": 10,
   "metadata": {},
   "outputs": [
    {
     "name": "stdout",
     "output_type": "stream",
     "text": [
      "Using outer_skin.surf for head surface.\n",
      "Getting helmet for system 306m\n"
     ]
    }
   ],
   "source": [
    "trans_fname = os.path.join(data_path,\n",
    "    'derivatives/meg_derivatives/sub-01/ses-meg/meg/anat-trans.fif')\n",
    "info = mne.io.read_info(raw_fname)\n",
    "fig = mne.viz.plot_alignment(info, trans_fname, subject='anat', dig=True,\n",
    "                             subjects_dir=subjects_dir, verbose=True);"
   ]
  },
  {
   "cell_type": "code",
   "execution_count": 11,
   "metadata": {},
   "outputs": [
    {
     "name": "stderr",
     "output_type": "stream",
     "text": [
      "/Users/claire/miniconda3/lib/python3.7/site-packages/mayavi/tools/figure.py:178: UserWarning: Scene all not managed by mlab\n",
      "  warnings.warn('Scene %s not managed by mlab' % name)\n"
     ]
    }
   ],
   "source": [
    "mlab.close('all')"
   ]
  },
  {
   "cell_type": "markdown",
   "metadata": {},
   "source": [
    "## Compute Source Space\n",
    "\n",
    "The source space defines the position of the candidate source locations.\n",
    "\n",
    "The following code computes such a source space with an OCT-6 resolution."
   ]
  },
  {
   "cell_type": "code",
   "execution_count": 12,
   "metadata": {},
   "outputs": [
    {
     "ename": "OSError",
     "evalue": "File \"/Users/claire/work/data/ds000117-practical/derivatives/freesurfer/sub-01/ses-mri/anat/surf/lh.sphere\" does not exist",
     "output_type": "error",
     "traceback": [
      "\u001b[0;31m---------------------------------------------------------------------------\u001b[0m",
      "\u001b[0;31mOSError\u001b[0m                                   Traceback (most recent call last)",
      "\u001b[0;32m<ipython-input-12-f8218ce290d8>\u001b[0m in \u001b[0;36m<module>\u001b[0;34m\u001b[0m\n\u001b[1;32m      3\u001b[0m src = mne.setup_source_space(subject, spacing='oct6',\n\u001b[1;32m      4\u001b[0m                              \u001b[0msubjects_dir\u001b[0m\u001b[0;34m=\u001b[0m\u001b[0msubjects_dir\u001b[0m\u001b[0;34m,\u001b[0m\u001b[0;34m\u001b[0m\u001b[0;34m\u001b[0m\u001b[0m\n\u001b[0;32m----> 5\u001b[0;31m                              add_dist=False)\n\u001b[0m",
      "\u001b[0;32m</Users/claire/miniconda3/lib/python3.7/site-packages/mne/externals/decorator.py:decorator-gen-89>\u001b[0m in \u001b[0;36msetup_source_space\u001b[0;34m(subject, spacing, surface, subjects_dir, add_dist, n_jobs, verbose)\u001b[0m\n",
      "\u001b[0;32m~/miniconda3/lib/python3.7/site-packages/mne/utils/_logging.py\u001b[0m in \u001b[0;36mwrapper\u001b[0;34m(*args, **kwargs)\u001b[0m\n\u001b[1;32m     88\u001b[0m             \u001b[0;32mwith\u001b[0m \u001b[0muse_log_level\u001b[0m\u001b[0;34m(\u001b[0m\u001b[0mverbose_level\u001b[0m\u001b[0;34m)\u001b[0m\u001b[0;34m:\u001b[0m\u001b[0;34m\u001b[0m\u001b[0;34m\u001b[0m\u001b[0m\n\u001b[1;32m     89\u001b[0m                 \u001b[0;32mreturn\u001b[0m \u001b[0mfunction\u001b[0m\u001b[0;34m(\u001b[0m\u001b[0;34m*\u001b[0m\u001b[0margs\u001b[0m\u001b[0;34m,\u001b[0m \u001b[0;34m**\u001b[0m\u001b[0mkwargs\u001b[0m\u001b[0;34m)\u001b[0m\u001b[0;34m\u001b[0m\u001b[0;34m\u001b[0m\u001b[0m\n\u001b[0;32m---> 90\u001b[0;31m         \u001b[0;32mreturn\u001b[0m \u001b[0mfunction\u001b[0m\u001b[0;34m(\u001b[0m\u001b[0;34m*\u001b[0m\u001b[0margs\u001b[0m\u001b[0;34m,\u001b[0m \u001b[0;34m**\u001b[0m\u001b[0mkwargs\u001b[0m\u001b[0;34m)\u001b[0m\u001b[0;34m\u001b[0m\u001b[0;34m\u001b[0m\u001b[0m\n\u001b[0m\u001b[1;32m     91\u001b[0m     return FunctionMaker.create(\n\u001b[1;32m     92\u001b[0m         \u001b[0mfunction\u001b[0m\u001b[0;34m,\u001b[0m \u001b[0;34m'return decfunc(%(signature)s)'\u001b[0m\u001b[0;34m,\u001b[0m\u001b[0;34m\u001b[0m\u001b[0;34m\u001b[0m\u001b[0m\n",
      "\u001b[0;32m~/miniconda3/lib/python3.7/site-packages/mne/source_space.py\u001b[0m in \u001b[0;36msetup_source_space\u001b[0;34m(***failed resolving arguments***)\u001b[0m\n\u001b[1;32m   1461\u001b[0m                         % (hemi, subject, stype, sval))\n\u001b[1;32m   1462\u001b[0m         s = _create_surf_spacing(surf, hemi, subject, stype, ico_surf,\n\u001b[0;32m-> 1463\u001b[0;31m                                  subjects_dir)\n\u001b[0m\u001b[1;32m   1464\u001b[0m         logger.info('loaded %s %d/%d selected to source space (%s)'\n\u001b[1;32m   1465\u001b[0m                     % (op.split(surf)[1], s['nuse'], s['np'], src_type_str))\n",
      "\u001b[0;32m~/miniconda3/lib/python3.7/site-packages/mne/surface.py\u001b[0m in \u001b[0;36m_create_surf_spacing\u001b[0;34m(surf, hemi, subject, stype, ico_surf, subjects_dir)\u001b[0m\n\u001b[1;32m    792\u001b[0m         \u001b[0msurf_name\u001b[0m \u001b[0;34m=\u001b[0m \u001b[0mop\u001b[0m\u001b[0;34m.\u001b[0m\u001b[0mjoin\u001b[0m\u001b[0;34m(\u001b[0m\u001b[0msubjects_dir\u001b[0m\u001b[0;34m,\u001b[0m \u001b[0msubject\u001b[0m\u001b[0;34m,\u001b[0m \u001b[0;34m'surf'\u001b[0m\u001b[0;34m,\u001b[0m \u001b[0mhemi\u001b[0m \u001b[0;34m+\u001b[0m \u001b[0;34m'.sphere'\u001b[0m\u001b[0;34m)\u001b[0m\u001b[0;34m\u001b[0m\u001b[0;34m\u001b[0m\u001b[0m\n\u001b[1;32m    793\u001b[0m         \u001b[0mlogger\u001b[0m\u001b[0;34m.\u001b[0m\u001b[0minfo\u001b[0m\u001b[0;34m(\u001b[0m\u001b[0;34m'Loading geometry from %s...'\u001b[0m \u001b[0;34m%\u001b[0m \u001b[0msurf_name\u001b[0m\u001b[0;34m)\u001b[0m\u001b[0;34m\u001b[0m\u001b[0;34m\u001b[0m\u001b[0m\n\u001b[0;32m--> 794\u001b[0;31m         \u001b[0mfrom_surf\u001b[0m \u001b[0;34m=\u001b[0m \u001b[0mread_surface\u001b[0m\u001b[0;34m(\u001b[0m\u001b[0msurf_name\u001b[0m\u001b[0;34m,\u001b[0m \u001b[0mreturn_dict\u001b[0m\u001b[0;34m=\u001b[0m\u001b[0;32mTrue\u001b[0m\u001b[0;34m)\u001b[0m\u001b[0;34m[\u001b[0m\u001b[0;34m-\u001b[0m\u001b[0;36m1\u001b[0m\u001b[0;34m]\u001b[0m\u001b[0;34m\u001b[0m\u001b[0;34m\u001b[0m\u001b[0m\n\u001b[0m\u001b[1;32m    795\u001b[0m         \u001b[0m_normalize_vectors\u001b[0m\u001b[0;34m(\u001b[0m\u001b[0mfrom_surf\u001b[0m\u001b[0;34m[\u001b[0m\u001b[0;34m'rr'\u001b[0m\u001b[0;34m]\u001b[0m\u001b[0;34m)\u001b[0m\u001b[0;34m\u001b[0m\u001b[0;34m\u001b[0m\u001b[0m\n\u001b[1;32m    796\u001b[0m         \u001b[0;32mif\u001b[0m \u001b[0mfrom_surf\u001b[0m\u001b[0;34m[\u001b[0m\u001b[0;34m'np'\u001b[0m\u001b[0;34m]\u001b[0m \u001b[0;34m!=\u001b[0m \u001b[0msurf\u001b[0m\u001b[0;34m[\u001b[0m\u001b[0;34m'np'\u001b[0m\u001b[0;34m]\u001b[0m\u001b[0;34m:\u001b[0m\u001b[0;34m\u001b[0m\u001b[0;34m\u001b[0m\u001b[0m\n",
      "\u001b[0;32m</Users/claire/miniconda3/lib/python3.7/site-packages/mne/externals/decorator.py:decorator-gen-39>\u001b[0m in \u001b[0;36mread_surface\u001b[0;34m(fname, read_metadata, return_dict, verbose)\u001b[0m\n",
      "\u001b[0;32m~/miniconda3/lib/python3.7/site-packages/mne/utils/_logging.py\u001b[0m in \u001b[0;36mwrapper\u001b[0;34m(*args, **kwargs)\u001b[0m\n\u001b[1;32m     88\u001b[0m             \u001b[0;32mwith\u001b[0m \u001b[0muse_log_level\u001b[0m\u001b[0;34m(\u001b[0m\u001b[0mverbose_level\u001b[0m\u001b[0;34m)\u001b[0m\u001b[0;34m:\u001b[0m\u001b[0;34m\u001b[0m\u001b[0;34m\u001b[0m\u001b[0m\n\u001b[1;32m     89\u001b[0m                 \u001b[0;32mreturn\u001b[0m \u001b[0mfunction\u001b[0m\u001b[0;34m(\u001b[0m\u001b[0;34m*\u001b[0m\u001b[0margs\u001b[0m\u001b[0;34m,\u001b[0m \u001b[0;34m**\u001b[0m\u001b[0mkwargs\u001b[0m\u001b[0;34m)\u001b[0m\u001b[0;34m\u001b[0m\u001b[0;34m\u001b[0m\u001b[0m\n\u001b[0;32m---> 90\u001b[0;31m         \u001b[0;32mreturn\u001b[0m \u001b[0mfunction\u001b[0m\u001b[0;34m(\u001b[0m\u001b[0;34m*\u001b[0m\u001b[0margs\u001b[0m\u001b[0;34m,\u001b[0m \u001b[0;34m**\u001b[0m\u001b[0mkwargs\u001b[0m\u001b[0;34m)\u001b[0m\u001b[0;34m\u001b[0m\u001b[0;34m\u001b[0m\u001b[0m\n\u001b[0m\u001b[1;32m     91\u001b[0m     return FunctionMaker.create(\n\u001b[1;32m     92\u001b[0m         \u001b[0mfunction\u001b[0m\u001b[0;34m,\u001b[0m \u001b[0;34m'return decfunc(%(signature)s)'\u001b[0m\u001b[0;34m,\u001b[0m\u001b[0;34m\u001b[0m\u001b[0;34m\u001b[0m\u001b[0m\n",
      "\u001b[0;32m~/miniconda3/lib/python3.7/site-packages/mne/surface.py\u001b[0m in \u001b[0;36mread_surface\u001b[0;34m(fname, read_metadata, return_dict, verbose)\u001b[0m\n\u001b[1;32m    654\u001b[0m     \u001b[0mread_tri\u001b[0m\u001b[0;34m\u001b[0m\u001b[0;34m\u001b[0m\u001b[0m\n\u001b[1;32m    655\u001b[0m     \"\"\"\n\u001b[0;32m--> 656\u001b[0;31m     \u001b[0mfname\u001b[0m \u001b[0;34m=\u001b[0m \u001b[0m_check_fname\u001b[0m\u001b[0;34m(\u001b[0m\u001b[0mfname\u001b[0m\u001b[0;34m,\u001b[0m \u001b[0;34m'read'\u001b[0m\u001b[0;34m,\u001b[0m \u001b[0;32mTrue\u001b[0m\u001b[0;34m)\u001b[0m\u001b[0;34m\u001b[0m\u001b[0;34m\u001b[0m\u001b[0m\n\u001b[0m\u001b[1;32m    657\u001b[0m     \u001b[0mret\u001b[0m \u001b[0;34m=\u001b[0m \u001b[0m_get_read_geometry\u001b[0m\u001b[0;34m(\u001b[0m\u001b[0;34m)\u001b[0m\u001b[0;34m(\u001b[0m\u001b[0mfname\u001b[0m\u001b[0;34m,\u001b[0m \u001b[0mread_metadata\u001b[0m\u001b[0;34m=\u001b[0m\u001b[0mread_metadata\u001b[0m\u001b[0;34m)\u001b[0m\u001b[0;34m\u001b[0m\u001b[0;34m\u001b[0m\u001b[0m\n\u001b[1;32m    658\u001b[0m     \u001b[0;32mif\u001b[0m \u001b[0mreturn_dict\u001b[0m\u001b[0;34m:\u001b[0m\u001b[0;34m\u001b[0m\u001b[0;34m\u001b[0m\u001b[0m\n",
      "\u001b[0;32m~/miniconda3/lib/python3.7/site-packages/mne/utils/check.py\u001b[0m in \u001b[0;36m_check_fname\u001b[0;34m(fname, overwrite, must_exist)\u001b[0m\n\u001b[1;32m    146\u001b[0m             \u001b[0mlogger\u001b[0m\u001b[0;34m.\u001b[0m\u001b[0minfo\u001b[0m\u001b[0;34m(\u001b[0m\u001b[0;34m'Overwriting existing file.'\u001b[0m\u001b[0;34m)\u001b[0m\u001b[0;34m\u001b[0m\u001b[0;34m\u001b[0m\u001b[0m\n\u001b[1;32m    147\u001b[0m     \u001b[0;32melif\u001b[0m \u001b[0mmust_exist\u001b[0m\u001b[0;34m:\u001b[0m\u001b[0;34m\u001b[0m\u001b[0;34m\u001b[0m\u001b[0m\n\u001b[0;32m--> 148\u001b[0;31m         \u001b[0;32mraise\u001b[0m \u001b[0mIOError\u001b[0m\u001b[0;34m(\u001b[0m\u001b[0;34m'File \"%s\" does not exist'\u001b[0m \u001b[0;34m%\u001b[0m \u001b[0mfname\u001b[0m\u001b[0;34m)\u001b[0m\u001b[0;34m\u001b[0m\u001b[0;34m\u001b[0m\u001b[0m\n\u001b[0m\u001b[1;32m    149\u001b[0m     \u001b[0;32mreturn\u001b[0m \u001b[0mstr\u001b[0m\u001b[0;34m(\u001b[0m\u001b[0mfname\u001b[0m\u001b[0;34m)\u001b[0m\u001b[0;34m\u001b[0m\u001b[0;34m\u001b[0m\u001b[0m\n\u001b[1;32m    150\u001b[0m \u001b[0;34m\u001b[0m\u001b[0m\n",
      "\u001b[0;31mOSError\u001b[0m: File \"/Users/claire/work/data/ds000117-practical/derivatives/freesurfer/sub-01/ses-mri/anat/surf/lh.sphere\" does not exist"
     ]
    }
   ],
   "source": [
    "mne.set_log_level('WARNING')\n",
    "subject = 'anat'\n",
    "src = mne.setup_source_space(subject, spacing='oct6',\n",
    "                             subjects_dir=subjects_dir,\n",
    "                             add_dist=False)"
   ]
  },
  {
   "cell_type": "code",
   "execution_count": null,
   "metadata": {},
   "outputs": [],
   "source": [
    "src"
   ]
  },
  {
   "cell_type": "markdown",
   "metadata": {},
   "source": [
    "``src`` contains two parts, one for the left hemisphere (4098 locations) and one for the right hemisphere (4098 locations)."
   ]
  },
  {
   "cell_type": "code",
   "execution_count": null,
   "metadata": {},
   "outputs": [],
   "source": [
    "fig = mne.viz.plot_alignment(info, trans, subject=subject, dig=False, src=src,\n",
    "                             subjects_dir=subjects_dir, verbose=True, meg=False, eeg=False);"
   ]
  },
  {
   "cell_type": "code",
   "execution_count": null,
   "metadata": {},
   "outputs": [],
   "source": [
    "mne.viz.plot_alignment(info, trans=trans, subject=subject,\n",
    "                       src=src, subjects_dir=subjects_dir, dig=True,\n",
    "                       surfaces=['head-dense', 'white'], coord_frame='meg')"
   ]
  },
  {
   "cell_type": "code",
   "execution_count": null,
   "metadata": {},
   "outputs": [],
   "source": [
    "mlab.close()"
   ]
  },
  {
   "cell_type": "markdown",
   "metadata": {},
   "source": [
    "### Compute forward solution\n",
    "\n",
    "We can now compute the forward solution.\n",
    "\n",
    "To reduce computational load, we'll just compute a single layer BEM\n",
    "(just inner skull) that can then be used for MEG (not EEG)."
   ]
  },
  {
   "cell_type": "code",
   "execution_count": null,
   "metadata": {},
   "outputs": [],
   "source": [
    "conductivity = (0.3,)  # for single layer\n",
    "# conductivity = (0.3, 0.006, 0.3)  # for three layers\n",
    "model = mne.make_bem_model(subject=subject, ico=4,\n",
    "                           conductivity=conductivity,\n",
    "                           subjects_dir=subjects_dir)\n",
    "bem = mne.make_bem_solution(model)"
   ]
  },
  {
   "cell_type": "code",
   "execution_count": 16,
   "metadata": {},
   "outputs": [],
   "source": [
    "bem_fname = os.path.join(data_path,\n",
    "    'derivatives/meg_derivatives/sub-01/ses-meg/meg/sub-01-bem.fif')\n",
    "mne.bem.write_bem_solution(bem_fname, bem)"
   ]
  },
  {
   "cell_type": "code",
   "execution_count": null,
   "metadata": {},
   "outputs": [],
   "source": [
    "fwd = mne.make_forward_solution(raw_fname, trans=trans,\n",
    "                                src=src, bem=bem,\n",
    "                                meg=True, # include MEG channels\n",
    "                                eeg=False, # include EEG channels\n",
    "                                mindist=5.0, # ignore sources <= 5mm from inner skull\n",
    "                                n_jobs=1) # number of jobs to run in parallel"
   ]
  },
  {
   "cell_type": "code",
   "execution_count": 14,
   "metadata": {},
   "outputs": [],
   "source": [
    "fwd_fname = os.path.join(data_path,\n",
    "    'derivatives/meg_derivatives/sub-01/ses-meg/meg/sub-01-meg-fwd.fif')\n",
    "mne.write_forward_solution(fwd_fname, fwd)"
   ]
  },
  {
   "cell_type": "markdown",
   "metadata": {},
   "source": [
    "Or read the EEG/MEG file from disk"
   ]
  },
  {
   "cell_type": "code",
   "execution_count": null,
   "metadata": {},
   "outputs": [],
   "source": [
    "fwd = mne.read_forward_solution(fwd_fname)"
   ]
  },
  {
   "cell_type": "code",
   "execution_count": null,
   "metadata": {},
   "outputs": [],
   "source": [
    "fwd"
   ]
  },
  {
   "cell_type": "markdown",
   "metadata": {},
   "source": [
    "Convert to surface orientation for cortically constrained inverse modeling:"
   ]
  },
  {
   "cell_type": "code",
   "execution_count": null,
   "metadata": {},
   "outputs": [],
   "source": [
    "fwd = mne.convert_forward_solution(fwd, surf_ori=True)\n",
    "leadfield = fwd['sol']['data']\n",
    "print(\"Leadfield size : %d sensors x %d dipoles\" % leadfield.shape)"
   ]
  },
  {
   "cell_type": "code",
   "execution_count": null,
   "metadata": {},
   "outputs": [],
   "source": [
    "fwd"
   ]
  },
  {
   "cell_type": "markdown",
   "metadata": {},
   "source": [
    "Compute sensitivity maps:"
   ]
  },
  {
   "cell_type": "code",
   "execution_count": null,
   "metadata": {},
   "outputs": [],
   "source": [
    "grad_map = mne.sensitivity_map(fwd, ch_type='grad', mode='fixed')\n",
    "mag_map = mne.sensitivity_map(fwd, ch_type='mag', mode='fixed')\n",
    "eeg_map = mne.sensitivity_map(fwd, ch_type='eeg', mode='fixed')"
   ]
  },
  {
   "cell_type": "markdown",
   "metadata": {},
   "source": [
    "# Show gain matrix a.k.a. leadfield matrix with sensitivy map"
   ]
  },
  {
   "cell_type": "code",
   "execution_count": null,
   "metadata": {},
   "outputs": [],
   "source": [
    "import matplotlib.pyplot as plt\n",
    "\n",
    "picks_meg = mne.pick_types(fwd['info'], meg=True, eeg=False)\n",
    "picks_eeg = mne.pick_types(fwd['info'], meg=False, eeg=True)\n",
    "\n",
    "fig, axes = plt.subplots(2, 1, figsize=(10, 8), sharex=True)  \n",
    "fig.suptitle('Lead field matrix (500 dipoles only)', fontsize=14)\n",
    "\n",
    "for ax, picks, ch_type in zip(axes, [picks_meg, picks_eeg], ['meg', 'eeg']):\n",
    "   im = ax.imshow(leadfield[picks, :500], origin='lower', aspect='auto', cmap='RdBu_r')\n",
    "   ax.set_title(ch_type.upper())\n",
    "   ax.set_xlabel('sources')\n",
    "   ax.set_ylabel('sensors')\n",
    "   plt.colorbar(im, ax=ax, cmap='RdBu_r')"
   ]
  },
  {
   "cell_type": "code",
   "execution_count": null,
   "metadata": {},
   "outputs": [],
   "source": [
    "plt.hist([grad_map.data.ravel(), mag_map.data.ravel(), eeg_map.data.ravel()],\n",
    "          bins=20, label=['Gradiometers', 'Magnetometers', 'EEG'],\n",
    "         color=['c', 'b', 'k'])\n",
    "plt.legend()\n",
    "plt.title('Normal orientation sensitivity')\n",
    "plt.xlabel('sensitivity')\n",
    "plt.ylabel('count');"
   ]
  },
  {
   "cell_type": "markdown",
   "metadata": {},
   "source": [
    "Uncomment the lines below to view"
   ]
  },
  {
   "cell_type": "code",
   "execution_count": null,
   "metadata": {},
   "outputs": [],
   "source": [
    "# enable correct backend for 3d plotting\n",
    "clim = dict(kind='percent', lims=(0.0, 50, 99), smoothing_steps=3)  # let's see single dipoles\n",
    "brain = mag_map.plot(subject='sample', time_label='MAG sensitivity',\n",
    "                     subjects_dir=subjects_dir, clim=clim, smoothing_steps=8);\n",
    "view = 'lat'\n",
    "brain.show_view(view)\n",
    "brain.save_image('sensitivity_map_grad_%s.jpg' % view)\n",
    "Image(filename='sensitivity_map_grad_%s.jpg' % view, width=400)"
   ]
  },
  {
   "cell_type": "code",
   "execution_count": null,
   "metadata": {},
   "outputs": [],
   "source": [
    "# enable correct backend for 3d plotting\n",
    "clim = dict(kind='percent', lims=(0.0, 50, 99), smoothing_steps=3)  # let's see single dipoles\n",
    "brain = eeg_map.plot(subject='sample', time_label='EEG sensitivity',\n",
    "                     subjects_dir=subjects_dir, clim=clim, smoothing_steps=8);\n",
    "view = 'lat'\n",
    "brain.show_view(view)\n",
    "brain.save_image('sensitivity_map_eeg_%s.jpg' % view)\n",
    "Image(filename='sensitivity_map_eeg_%s.jpg' % view, width=400)"
   ]
  },
  {
   "cell_type": "markdown",
   "metadata": {},
   "source": [
    "## Exercise\n",
    "\n",
    "Plot the sensitivity maps for EEG and compare it with the MEG. Can you justify the claims that:\n",
    "\n",
    "- MEG is not sensitive to radial sources\n",
    "- EEG is more sensitive to deep sources\n",
    "\n",
    "How will the MEG sensitivity maps and histograms change if you use a free instead of a fixed orientation?\n",
    "\n",
    "Try changing the `mode` parameter in `mne.sensitivity_map` accordingly.\n",
    "\n",
    "Why don't we see any dipoles on the gyri?"
   ]
  }
 ],
 "metadata": {
  "kernelspec": {
   "display_name": "Python 3",
   "language": "python",
   "name": "python3"
  },
  "language_info": {
   "codemirror_mode": {
    "name": "ipython",
    "version": 3
   },
   "file_extension": ".py",
   "mimetype": "text/x-python",
   "name": "python",
   "nbconvert_exporter": "python",
   "pygments_lexer": "ipython3",
   "version": "3.7.5"
  }
 },
 "nbformat": 4,
 "nbformat_minor": 1
}
