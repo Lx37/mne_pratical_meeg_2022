{
 "cells": [
  {
   "cell_type": "markdown",
   "metadata": {},
   "source": [
    "\n",
    "# Source localization with single dipole fit\n",
    "\n",
    "\n",
    "The aim of this lecture is to show you how to do sequential and\n",
    "fixed dipole fitting with MNE-Python."
   ]
  },
  {
   "cell_type": "code",
   "execution_count": 1,
   "metadata": {},
   "outputs": [],
   "source": [
    "%matplotlib qt\n",
    "import matplotlib.pyplot as plt\n",
    "\n",
    "import os\n",
    "import numpy as np\n",
    "import mne\n",
    "\n",
    "mne.set_log_level('WARNING')\n",
    "\n",
    "# Change the following path to where the folder ds000117-practical is on your disk\n",
    "data_path = os.path.expanduser(\"~/work/data/ds000117-practical/\")\n",
    "\n",
    "raw_fname = os.path.join(data_path,\n",
    "    'derivatives/meg_derivatives/sub-01/ses-meg/meg/sub-01_ses-meg_task-facerecognition_run-01_proc-sss_meg.fif')\n",
    "\n",
    "evoked_fname = raw_fname.replace('_meg.fif', '-ave.fif')\n",
    "epochs_fname = raw_fname.replace('_meg.fif', '-epo.fif')"
   ]
  },
  {
   "cell_type": "code",
   "execution_count": 2,
   "metadata": {},
   "outputs": [],
   "source": [
    "from mne.forward import make_forward_dipole\n",
    "from mne.evoked import combine_evoked\n",
    "from mne.simulation import simulate_evoked\n",
    "\n",
    "subjects_dir = os.path.join(data_path, 'derivatives/freesurfer/sub-01/ses-mri/')\n",
    "subject = 'anat'\n",
    "trans_fname = os.path.join(data_path,\n",
    "    'derivatives/meg_derivatives/sub-01/ses-meg/meg/anat-trans.fif')\n",
    "bem_fname = os.path.join(data_path,\n",
    "    'derivatives/meg_derivatives/sub-01/ses-meg/meg/sub-01-bem.fif')\n",
    "fname_surf_lh = os.path.join(subjects_dir, subject, 'surf', 'lh.white')"
   ]
  },
  {
   "cell_type": "markdown",
   "metadata": {},
   "source": [
    "Let's localize the N100m (using MEG only):\n",
    "\n"
   ]
  },
  {
   "cell_type": "code",
   "execution_count": 3,
   "metadata": {},
   "outputs": [],
   "source": [
    "epochs = mne.read_epochs(epochs_fname)"
   ]
  },
  {
   "cell_type": "code",
   "execution_count": 4,
   "metadata": {},
   "outputs": [
    {
     "data": {
      "text/plain": [
       "<EpochsFIF  |   79 events (all good), -0.2 - 2 sec, baseline [-0.2, 0], ~129.1 MB, data loaded,\n",
       " 'face/famous/first': 13\n",
       " 'face/famous/immediate': 3\n",
       " 'face/famous/long': 6\n",
       " 'face/unfamiliar/first': 17\n",
       " 'face/unfamiliar/immediate': 4\n",
       " 'face/unfamiliar/long': 6\n",
       " 'scrambled/first': 15\n",
       " 'scrambled/immediate': 9\n",
       " 'scrambled/long': 6>"
      ]
     },
     "execution_count": 4,
     "metadata": {},
     "output_type": "execute_result"
    }
   ],
   "source": [
    "epochs.pick_types(meg=True, eeg=False)"
   ]
  },
  {
   "cell_type": "code",
   "execution_count": 5,
   "metadata": {},
   "outputs": [],
   "source": [
    "cov = mne.compute_covariance(epochs, rank='info')"
   ]
  },
  {
   "cell_type": "code",
   "execution_count": 6,
   "metadata": {},
   "outputs": [],
   "source": [
    "evoked_face = epochs['face'].average()\n",
    "evoked_scrambled = epochs['scrambled'].average()"
   ]
  },
  {
   "cell_type": "code",
   "execution_count": 7,
   "metadata": {},
   "outputs": [],
   "source": [
    "contrast = mne.combine_evoked([evoked_face, evoked_scrambled], [0.5, -0.5])\n",
    "contrast.crop(None, 0.2)\n",
    "contrast.plot();"
   ]
  },
  {
   "cell_type": "code",
   "execution_count": 8,
   "metadata": {},
   "outputs": [
    {
     "name": "stdout",
     "output_type": "stream",
     "text": [
      "<Dipole  |  n_times : 6, tmin : 0.173, tmax : 0.190>\n"
     ]
    }
   ],
   "source": [
    "# Fit a dipole using a sequential (time-varying position and orientation) fit\n",
    "contrast_crop = contrast.copy().crop(0.175, 0.190)\n",
    "dip, residual = mne.fit_dipole(contrast_crop, cov, bem_fname,\n",
    "                               trans_fname)\n",
    "print(dip)"
   ]
  },
  {
   "cell_type": "code",
   "execution_count": 9,
   "metadata": {},
   "outputs": [
    {
     "name": "stdout",
     "output_type": "stream",
     "text": [
      "[34.0835079  37.06606751 35.91500438 31.77351344 38.54588196 41.60892435]\n"
     ]
    }
   ],
   "source": [
    "# Look at our result\n",
    "print(dip.gof)"
   ]
  },
  {
   "cell_type": "code",
   "execution_count": 10,
   "metadata": {},
   "outputs": [],
   "source": [
    "dip.plot_locations(subject=subject, trans=trans_fname,\n",
    "                   subjects_dir=subjects_dir, mode='orthoview');"
   ]
  },
  {
   "cell_type": "code",
   "execution_count": 11,
   "metadata": {},
   "outputs": [
    {
     "name": "stdout",
     "output_type": "stream",
     "text": [
      "<Dipole  |  n_times : 6, tmin : 0.173, tmax : 0.190>\n"
     ]
    }
   ],
   "source": [
    "selection = mne.read_selection('Left', info=contrast.info)\n",
    "# Fit a dipole using a sequential (time-varying position and orientation) fit\n",
    "dip, residual = \\\n",
    "    mne.fit_dipole(contrast_crop.copy().pick_channels(selection),\n",
    "                   cov, bem_fname, trans_fname)\n",
    "print(dip)"
   ]
  },
  {
   "cell_type": "code",
   "execution_count": 12,
   "metadata": {},
   "outputs": [],
   "source": [
    "dip.plot_locations(subject=subject, trans=trans_fname,\n",
    "                   subjects_dir=subjects_dir, mode='orthoview');"
   ]
  },
  {
   "cell_type": "markdown",
   "metadata": {},
   "source": [
    "## Exercises\n",
    "- Try to improve the dipole fit by using a subselection of channels:\n",
    "    - Subselect channels (think about ``mne.read_selection(...)``, ``evoked.pick_channels(...)``)\n",
    "    - Do a time-varying dipole fit of ``evoked_crop``\n",
    "    - Do a fixed-position, fixed-orientation fit using ``evoked`` and visualize the result\n",
    "- What is the improvement in max GOF from using a subselection of channels?\n",
    "- How far (in mm) is the new best dipole from the original best dipole?"
   ]
  }
 ],
 "metadata": {
  "kernelspec": {
   "display_name": "Python 3",
   "language": "python",
   "name": "python3"
  },
  "language_info": {
   "codemirror_mode": {
    "name": "ipython",
    "version": 3
   },
   "file_extension": ".py",
   "mimetype": "text/x-python",
   "name": "python",
   "nbconvert_exporter": "python",
   "pygments_lexer": "ipython3",
   "version": "3.7.5"
  }
 },
 "nbformat": 4,
 "nbformat_minor": 1
}
